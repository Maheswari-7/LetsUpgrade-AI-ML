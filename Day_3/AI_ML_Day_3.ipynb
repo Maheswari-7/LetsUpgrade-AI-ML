{
 "cells": [
  {
   "cell_type": "markdown",
   "metadata": {},
   "source": [
    "Subtracting two complex numbers"
   ]
  },
  {
   "cell_type": "code",
   "execution_count": 2,
   "metadata": {},
   "outputs": [
    {
     "name": "stdout",
     "output_type": "stream",
     "text": [
      "(1-2j)\n"
     ]
    }
   ],
   "source": [
    "a = (3+1j)-(2+3j)\n",
    "print(a)"
   ]
  },
  {
   "cell_type": "markdown",
   "metadata": {},
   "source": [
    "Finding fourth root of a number"
   ]
  },
  {
   "cell_type": "code",
   "execution_count": 3,
   "metadata": {},
   "outputs": [
    {
     "name": "stdout",
     "output_type": "stream",
     "text": [
      "16\n"
     ]
    }
   ],
   "source": [
    "b = 2**4\n",
    "print(b)"
   ]
  },
  {
   "cell_type": "markdown",
   "metadata": {},
   "source": [
    "Swapping two numbers without using a temp variable"
   ]
  },
  {
   "cell_type": "code",
   "execution_count": 20,
   "metadata": {},
   "outputs": [
    {
     "name": "stdout",
     "output_type": "stream",
     "text": [
      "Swapped values of c is: 150\n",
      "Swapped values of d is: 100\n"
     ]
    }
   ],
   "source": [
    "c = 100\n",
    "d = 150\n",
    "c = c + d\n",
    "d = c - d\n",
    "c = c - d\n",
    "print(\"Swapped values of c is:\",c)\n",
    "print(\"Swapped values of d is:\",d)\n"
   ]
  },
  {
   "cell_type": "markdown",
   "metadata": {},
   "source": [
    "Converting Celius to Farenheit and vice versa"
   ]
  },
  {
   "cell_type": "code",
   "execution_count": 12,
   "metadata": {},
   "outputs": [
    {
     "name": "stdout",
     "output_type": "stream",
     "text": [
      "Farenheit to kelvin is 339.05555555555554\n",
      "Farenheit to celcius is 65.55555555555556\n"
     ]
    }
   ],
   "source": [
    "far = 150\n",
    "far2kelvin = 273.5 + ((far - 32.0) * (5.0/9.0)) \n",
    "far2cel = (far -32)*5/9\n",
    "print(\"Farenheit to kelvin is\", far2kelvin)\n",
    "print(\"Farenheit to celcius is\", far2cel)"
   ]
  },
  {
   "cell_type": "markdown",
   "metadata": {},
   "source": [
    "Data types in python\n"
   ]
  },
  {
   "cell_type": "code",
   "execution_count": 14,
   "metadata": {},
   "outputs": [
    {
     "data": {
      "text/plain": [
       "int"
      ]
     },
     "execution_count": 14,
     "metadata": {},
     "output_type": "execute_result"
    }
   ],
   "source": [
    "a = 100 \n",
    "b = 2.3 \n",
    "c = 9045678900000000000000 \n",
    "d = \"Helo ppl\" \n",
    "e = 2+3j\n",
    "\n",
    "type(a)\n"
   ]
  },
  {
   "cell_type": "code",
   "execution_count": 15,
   "metadata": {},
   "outputs": [
    {
     "data": {
      "text/plain": [
       "float"
      ]
     },
     "execution_count": 15,
     "metadata": {},
     "output_type": "execute_result"
    }
   ],
   "source": [
    "type(b)"
   ]
  },
  {
   "cell_type": "code",
   "execution_count": 16,
   "metadata": {},
   "outputs": [
    {
     "data": {
      "text/plain": [
       "int"
      ]
     },
     "execution_count": 16,
     "metadata": {},
     "output_type": "execute_result"
    }
   ],
   "source": [
    "type(c)"
   ]
  },
  {
   "cell_type": "code",
   "execution_count": 17,
   "metadata": {},
   "outputs": [
    {
     "data": {
      "text/plain": [
       "str"
      ]
     },
     "execution_count": 17,
     "metadata": {},
     "output_type": "execute_result"
    }
   ],
   "source": [
    "type(d)"
   ]
  },
  {
   "cell_type": "code",
   "execution_count": 18,
   "metadata": {},
   "outputs": [
    {
     "data": {
      "text/plain": [
       "complex"
      ]
     },
     "execution_count": 18,
     "metadata": {},
     "output_type": "execute_result"
    }
   ],
   "source": [
    "type(e)"
   ]
  },
  {
   "cell_type": "markdown",
   "metadata": {},
   "source": [
    "# STEPS TO UPLOAD IN GITHUB"
   ]
  },
  {
   "cell_type": "markdown",
   "metadata": {},
   "source": [
    "USE HASTAG + SPACE\n",
    "\n",
    "# Step 1: Create a profile in Github using Gmail account\n",
    "\n",
    "USING DOUBLE HASTAG +SPACE\n",
    "\n",
    "## Step 2: Create a respository inside the Github as \"LetsUpgrade AI/ML\"\n",
    "\n",
    "USING 2 UNDERSCORES AT START AND END - BOLD\n",
    "\n",
    "__Step 3: Set it as Public__\n",
    "\n",
    "USING 3 UNDERSCORES AT START AND END - BOLD+ITALIC\n",
    "\n",
    "___Step 4: Once the assignments are done in the local system copy the day to day assignments inside the repository___\n",
    "\n",
    "Step 5: Share the Gitup link in the Google form which request for the submission of assignments\n",
    "\n"
   ]
  },
  {
   "cell_type": "code",
   "execution_count": null,
   "metadata": {},
   "outputs": [],
   "source": []
  }
 ],
 "metadata": {
  "kernelspec": {
   "display_name": "Python 3",
   "language": "python",
   "name": "python3"
  },
  "language_info": {
   "codemirror_mode": {
    "name": "ipython",
    "version": 3
   },
   "file_extension": ".py",
   "mimetype": "text/x-python",
   "name": "python",
   "nbconvert_exporter": "python",
   "pygments_lexer": "ipython3",
   "version": "3.7.6"
  }
 },
 "nbformat": 4,
 "nbformat_minor": 4
}
