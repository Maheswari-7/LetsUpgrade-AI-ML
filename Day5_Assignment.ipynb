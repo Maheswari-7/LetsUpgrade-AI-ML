{
 "cells": [
  {
   "cell_type": "markdown",
   "metadata": {},
   "source": [
    "__Question 1 :Write a Python program to find the first 20 non-even prime natural numbers__"
   ]
  },
  {
   "cell_type": "code",
   "execution_count": 49,
   "metadata": {},
   "outputs": [
    {
     "name": "stdout",
     "output_type": "stream",
     "text": [
      "[3, 5, 7, 11, 13, 17, 19, 23, 29, 31, 37, 41, 43, 47, 53, 59, 61, 67, 71, 73]\n"
     ]
    }
   ],
   "source": [
    "def is_prime(num):\n",
    "    if num > 1:\n",
    "       for i in range(2,num):\n",
    "           if (num % i) == 0:\n",
    "               break\n",
    "       else:\n",
    "           return num\n",
    "k=[]    \n",
    "for i in range(1,300):\n",
    "    h=is_prime(i)\n",
    "    if len(k)==20:\n",
    "        break\n",
    "    if h!=None and h%2>0:\n",
    "        k.append(h)\n",
    "\n",
    "print(k)        "
   ]
  },
  {
   "cell_type": "markdown",
   "metadata": {},
   "source": [
    "__Question 2 :Write a Python program to implement 15 functions of string.__"
   ]
  },
  {
   "cell_type": "code",
   "execution_count": 38,
   "metadata": {},
   "outputs": [
    {
     "name": "stdout",
     "output_type": "stream",
     "text": [
      " mAHESWARI\n",
      "Maheswari\n",
      "10\n",
      " maheswari\n",
      " MAHESWARI\n",
      " Mahiswari\n",
      "False\n",
      "False\n",
      "b' Maheswari'\n",
      "6\n",
      "['', '']\n",
      " Maheswari\n",
      " Maheswari\n",
      " Maheswari\n",
      "[' Mah', 'swari']\n"
     ]
    }
   ],
   "source": [
    "s = \" Maheswari\"\n",
    "print(s.swapcase())\n",
    "print(s.strip())\n",
    "print(len(s))\n",
    "print(s.lower())\n",
    "print(s.upper())\n",
    "print(s.replace('e','i'))\n",
    "print(s.isnumeric())\n",
    "print(s.isidentifier())\n",
    "print(s.encode())\n",
    "print(s.find('w'))\n",
    "print(s.rsplit(s))\n",
    "print(s.title())\n",
    "print(s.zfill(5))\n",
    "print(s.translate('e'))\n",
    "print(s.split('e'))"
   ]
  },
  {
   "cell_type": "markdown",
   "metadata": {},
   "source": [
    "__Question 3:Write a Python program to check if the given string is a Palindrome or Anagram or None of them.Display the message accordingly to the user__"
   ]
  },
  {
   "cell_type": "code",
   "execution_count": 51,
   "metadata": {},
   "outputs": [
    {
     "name": "stdout",
     "output_type": "stream",
     "text": [
      "Enter the first string: silent\n",
      "Enter the second string: listen\n",
      "Given string is an anagram\n"
     ]
    }
   ],
   "source": [
    "def palindrome(st1,st2):\n",
    "    if st1 == st2[::-1]:\n",
    "        return 1\n",
    "    else:\n",
    "        return 0\n",
    "    \n",
    "def anagram(st1,st2):\n",
    "    if sorted(s1)==sorted(s2):\n",
    "        return 1\n",
    "    else:\n",
    "        return 0\n",
    "    \n",
    "s1 = input('Enter the first string: ')\n",
    "s2 = input('Enter the second string: ')\n",
    "\n",
    "if palindrome(s1,s2) and anagram(s1,s2):\n",
    "    print('Given strings are palindrome and Anagram')\n",
    "elif palindrome(s1,s2):\n",
    "    print('Given string is palindrom')\n",
    "elif anagram(s1,s2):\n",
    "    print('Given string is an anagram')\n",
    "else:\n",
    "    print('Given string is not a palindorme nor Anagram')\n"
   ]
  },
  {
   "cell_type": "markdown",
   "metadata": {},
   "source": [
    "__Question 4:Write a Python's user defined function that removes all the additional characters from the stringand converts it finally to lower case using built-in lower(). eg: If the string is \"Dr. Darshan Ingle@AI-ML Trainer\", then the output be \"drdarshaningleaimltrainer\".__"
   ]
  },
  {
   "cell_type": "code",
   "execution_count": 48,
   "metadata": {},
   "outputs": [
    {
     "name": "stdout",
     "output_type": "stream",
     "text": [
      "Enter the string: Dr. Darshan Ingle@AI-ML Trainer\n"
     ]
    },
    {
     "data": {
      "text/plain": [
       "'dr.darshaningle@ai-mltrainer'"
      ]
     },
     "execution_count": 48,
     "metadata": {},
     "output_type": "execute_result"
    }
   ],
   "source": [
    "def conv():\n",
    "    lo = ip.lower()\n",
    "    fin = lo.replace(' ','') \n",
    "    return fin\n",
    "\n",
    "ip = input(\"Enter the string: \")\n",
    "conv()"
   ]
  },
  {
   "cell_type": "code",
   "execution_count": null,
   "metadata": {},
   "outputs": [],
   "source": []
  }
 ],
 "metadata": {
  "kernelspec": {
   "display_name": "Python 3",
   "language": "python",
   "name": "python3"
  },
  "language_info": {
   "codemirror_mode": {
    "name": "ipython",
    "version": 3
   },
   "file_extension": ".py",
   "mimetype": "text/x-python",
   "name": "python",
   "nbconvert_exporter": "python",
   "pygments_lexer": "ipython3",
   "version": "3.7.6"
  }
 },
 "nbformat": 4,
 "nbformat_minor": 4
}
